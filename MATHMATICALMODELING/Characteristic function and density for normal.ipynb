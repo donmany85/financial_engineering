{
 "cells": [
  {
   "cell_type": "code",
   "execution_count": null,
   "metadata": {},
   "outputs": [],
   "source": [
    "# Characteristic function and density for normal(10,1)\n",
    "\n",
    "import numpy as np \n",
    "import matplotlib.pyplot as plt  \n",
    "import scipy.stats as st \n",
    "from mpl_toolkits import mplot3d\n",
    "\n",
    "\n",
    "def plotNormalPDF_CDF_CHF() :\n",
    "    mu=10.0\n",
    "    sigma=1.0 \n",
    "    i=np.complex(0,1)\n",
    "    chf=lambda u: np.exp(i*mu*u-sigma*sigma*u*u/2.0)\n",
    "    pdf=lambda x: st.norm.pdf(x,mu,sigma)\n",
    "    cdf=lambda x: st.norm.cdf(x,mu,sigma) \n",
    "\n",
    "    x=np.linspace(5,15,100)\n",
    "    u=np.linspace(0,5,250)\n",
    "\n",
    "    plt.figure(1)\n",
    "    plt.plot(x,pdf(x))\n",
    "    plt.grid()\n",
    "    plt.xlabel('x')\n",
    "    plt.ylabel('PDF')\n",
    "\n",
    "    plt.figure(2)\n",
    "    plt.plot(x,cdf(x))\n",
    "    plt.grid()\n",
    "    plt.xlabel('x')\n",
    "    plt.ylabel('CDF')\n",
    "\n",
    "    plt.figure(3)\n",
    "    ax=plt.axes(projection='3d') \n",
    "    chfV=chf(u) \n",
    "\n",
    "    x=np.real(chfV)\n",
    "    y=np.imag(chfV)\n",
    "    ax.plot3D(u, x, y, 'blue')\n",
    "    ax.view_init(30, -120) \n",
    "\n",
    "plotNormalPDF_CDF_CHF()"
   ]
  }
 ],
 "metadata": {
  "kernelspec": {
   "display_name": "Python 3",
   "language": "python",
   "name": "python3"
  },
  "language_info": {
   "name": "python",
   "version": "3.10.9"
  },
  "orig_nbformat": 4
 },
 "nbformat": 4,
 "nbformat_minor": 2
}
